{
 "cells": [
  {
   "cell_type": "markdown",
   "metadata": {},
   "source": [
    "# Statistics and Data Journalism\n",
    "## HODP Bootcamp Week 5\n",
    "### October 15, 2019"
   ]
  },
  {
   "cell_type": "markdown",
   "metadata": {},
   "source": [
    "### Goals for this week:\n",
    "* Learn what a significance test and confidence interval are\n",
    "* Practice basic linear regression\n",
    "* Understand the difference between correlation and causation"
   ]
  },
  {
   "cell_type": "markdown",
   "metadata": {},
   "source": [
    "### Parameters vs. Statistics\n",
    "* In data journalism, we're often interested in estimating *pararameters* of interest, which are fixed but unknown quantities\n",
    "* We estimate these with *sample statistics*, which are known but random quantities\n",
    "* Seems very simple but mixing up the two is a common pitfall in journalism"
   ]
  },
  {
   "cell_type": "markdown",
   "metadata": {},
   "source": [
    "### Load in the data\n",
    "Here is a dataset of US House election data in 2018. I've taken the liberty of cleaning the data for you using R. The original dataset is from MIT election labs and is also included as is my cleaning code. "
   ]
  },
  {
   "cell_type": "code",
   "execution_count": 85,
   "metadata": {},
   "outputs": [
    {
     "data": {
      "text/html": [
       "<div>\n",
       "<style scoped>\n",
       "    .dataframe tbody tr th:only-of-type {\n",
       "        vertical-align: middle;\n",
       "    }\n",
       "\n",
       "    .dataframe tbody tr th {\n",
       "        vertical-align: top;\n",
       "    }\n",
       "\n",
       "    .dataframe thead th {\n",
       "        text-align: right;\n",
       "    }\n",
       "</style>\n",
       "<table border=\"1\" class=\"dataframe\">\n",
       "  <thead>\n",
       "    <tr style=\"text-align: right;\">\n",
       "      <th></th>\n",
       "      <th>Unnamed: 0</th>\n",
       "      <th>year</th>\n",
       "      <th>state</th>\n",
       "      <th>electiondistrict</th>\n",
       "      <th>runoff</th>\n",
       "      <th>special</th>\n",
       "      <th>candidate</th>\n",
       "      <th>party</th>\n",
       "      <th>writein</th>\n",
       "      <th>candidatevotes</th>\n",
       "      <th>totalvotes</th>\n",
       "      <th>prop</th>\n",
       "    </tr>\n",
       "  </thead>\n",
       "  <tbody>\n",
       "    <tr>\n",
       "      <th>0</th>\n",
       "      <td>28278</td>\n",
       "      <td>2018</td>\n",
       "      <td>Alabama</td>\n",
       "      <td>AL1</td>\n",
       "      <td>NaN</td>\n",
       "      <td>False</td>\n",
       "      <td>Robert Kennedy Jr.</td>\n",
       "      <td>democrat</td>\n",
       "      <td>False</td>\n",
       "      <td>89226</td>\n",
       "      <td>242617</td>\n",
       "      <td>0.367765</td>\n",
       "    </tr>\n",
       "    <tr>\n",
       "      <th>1</th>\n",
       "      <td>28279</td>\n",
       "      <td>2018</td>\n",
       "      <td>Alabama</td>\n",
       "      <td>AL1</td>\n",
       "      <td>NaN</td>\n",
       "      <td>False</td>\n",
       "      <td>Bradley Byrne</td>\n",
       "      <td>republican</td>\n",
       "      <td>False</td>\n",
       "      <td>153228</td>\n",
       "      <td>242617</td>\n",
       "      <td>0.631563</td>\n",
       "    </tr>\n",
       "    <tr>\n",
       "      <th>2</th>\n",
       "      <td>28281</td>\n",
       "      <td>2018</td>\n",
       "      <td>Alabama</td>\n",
       "      <td>AL2</td>\n",
       "      <td>NaN</td>\n",
       "      <td>False</td>\n",
       "      <td>Martha Roby</td>\n",
       "      <td>republican</td>\n",
       "      <td>False</td>\n",
       "      <td>138879</td>\n",
       "      <td>226230</td>\n",
       "      <td>0.613884</td>\n",
       "    </tr>\n",
       "    <tr>\n",
       "      <th>3</th>\n",
       "      <td>28282</td>\n",
       "      <td>2018</td>\n",
       "      <td>Alabama</td>\n",
       "      <td>AL2</td>\n",
       "      <td>NaN</td>\n",
       "      <td>False</td>\n",
       "      <td>Tabitha Isner</td>\n",
       "      <td>democrat</td>\n",
       "      <td>False</td>\n",
       "      <td>86931</td>\n",
       "      <td>226230</td>\n",
       "      <td>0.384259</td>\n",
       "    </tr>\n",
       "    <tr>\n",
       "      <th>4</th>\n",
       "      <td>28284</td>\n",
       "      <td>2018</td>\n",
       "      <td>Alabama</td>\n",
       "      <td>AL3</td>\n",
       "      <td>NaN</td>\n",
       "      <td>False</td>\n",
       "      <td>Mike Rogers</td>\n",
       "      <td>republican</td>\n",
       "      <td>False</td>\n",
       "      <td>147770</td>\n",
       "      <td>231915</td>\n",
       "      <td>0.637173</td>\n",
       "    </tr>\n",
       "  </tbody>\n",
       "</table>\n",
       "</div>"
      ],
      "text/plain": [
       "   Unnamed: 0  year    state electiondistrict  runoff  special  \\\n",
       "0       28278  2018  Alabama              AL1     NaN    False   \n",
       "1       28279  2018  Alabama              AL1     NaN    False   \n",
       "2       28281  2018  Alabama              AL2     NaN    False   \n",
       "3       28282  2018  Alabama              AL2     NaN    False   \n",
       "4       28284  2018  Alabama              AL3     NaN    False   \n",
       "\n",
       "            candidate       party  writein  candidatevotes  totalvotes  \\\n",
       "0  Robert Kennedy Jr.    democrat    False           89226      242617   \n",
       "1       Bradley Byrne  republican    False          153228      242617   \n",
       "2         Martha Roby  republican    False          138879      226230   \n",
       "3       Tabitha Isner    democrat    False           86931      226230   \n",
       "4         Mike Rogers  republican    False          147770      231915   \n",
       "\n",
       "       prop  \n",
       "0  0.367765  \n",
       "1  0.631563  \n",
       "2  0.613884  \n",
       "3  0.384259  \n",
       "4  0.637173  "
      ]
     },
     "execution_count": 85,
     "metadata": {},
     "output_type": "execute_result"
    }
   ],
   "source": [
    "import pandas as pd\n",
    "import numpy as np\n",
    "\n",
    "house = pd.read_csv(\"house_elections_2018_clean.csv\")\n",
    "house.head()"
   ]
  },
  {
   "cell_type": "markdown",
   "metadata": {},
   "source": [
    "## Hypothesis Tests and P-Values\n",
    "### Did Rebublicans and Democrats win significantly different proportions of the vote in 2018 elections? \n",
    "#### Two sample t-tests\n",
    "We're going to conduct a two sample t-test. We can do this with SciPy's built in t-test function. A two sample t-test is a test of how \"far\" two sample statistics are from each other; we're usually trying to see if they are significantly different from each other. Let's use Python to see if the proportions of votes for Dems and Repubs are significantly different.\n",
    "\n",
    "This testing paradigm assumes that our observations are normally distributed. Let's also plot a histogram of our observations to make sure this assumption is satisfied "
   ]
  },
  {
   "cell_type": "code",
   "execution_count": 86,
   "metadata": {},
   "outputs": [
    {
     "data": {
      "image/png": "[encoded data removed]",
      "text/plain": [
       "<Figure size 432x288 with 2 Axes>"
      ]
     },
     "metadata": {},
     "output_type": "display_data"
    }
   ],
   "source": [
    "import matplotlib\n",
    "import matplotlib.pyplot as plt\n",
    "\n",
    "democrats = house[house.party == 'democrat']\n",
    "republicans = house[house.party == 'republican']\n",
    "n_bins = 20\n",
    "fig, ax = plt.subplots(1, 2, sharey=True, tight_layout=True)\n",
    "ax[0].hist(democrats.prop, bins=n_bins)\n",
    "ax[0].set_title(\"Democrats Prop\", fontsize=14)\n",
    "ax[1].hist(republicans.prop, bins=n_bins)\n",
    "ax[1].set_title(\"Republican Prop\", fontsize=14)\n",
    "\n",
    "plt.show()"
   ]
  },
  {
   "cell_type": "markdown",
   "metadata": {},
   "source": [
    "Now that we've checked our assumption of normality, we can perform our t-test."
   ]
  },
  {
   "cell_type": "code",
   "execution_count": 87,
   "metadata": {},
   "outputs": [
    {
     "data": {
      "text/plain": [
       "Ttest_indResult(statistic=4.474054464422503, pvalue=8.770242865379696e-06)"
      ]
     },
     "execution_count": 87,
     "metadata": {},
     "output_type": "execute_result"
    }
   ],
   "source": [
    "from scipy import stats\n",
    "stats.ttest_ind(democrats.prop, republicans.prop, equal_var = False)\n"
   ]
  },
  {
   "cell_type": "markdown",
   "metadata": {},
   "source": [
    "### Permutation Tests\n",
    "If our assumption of normality had failed, we would probably be better off performing some sort of nonparametric test. One such test is a permutation test. A permutation works by assuming that the labels of democrat and republican make no difference in determining proportions. Therefore, shuffling up the labels should not affect averages between the two groups. \n",
    "\n",
    "The test works by shuffling labels and computing differences in means many times. This produces a distribution of test statistics. Then, we calculate a p-value by finding the probability of observing a test statistic as extreme or more extreme than the one produced by our particular permutation of labels and proportions. \n",
    "\n",
    "This test does not assume normality, but it does assume that the two groups are drawn from the same distribution. This assumption needs to be checked as well. We will check it by using boxplots. \n",
    "\n",
    "Code to do this is given below. "
   ]
  },
  {
   "cell_type": "code",
   "execution_count": 89,
   "metadata": {},
   "outputs": [
    {
     "data": {
      "image/png": "[encoded data removed]",
      "text/plain": [
       "<Figure size 720x360 with 1 Axes>"
      ]
     },
     "metadata": {},
     "output_type": "display_data"
    },
    {
     "data": {
      "text/plain": [
       "0.0"
      ]
     },
     "execution_count": 89,
     "metadata": {},
     "output_type": "execute_result"
    }
   ],
   "source": [
    "from mlxtend.evaluate import permutation_test\n",
    "import seaborn as sns\n",
    "\n",
    "f, ax = plt.subplots(1,1, figsize=(10, 5))\n",
    "sns.boxplot(x='party', y='prop', data=house)\n",
    "ax.set_xlabel(\"Party\", fontsize=14)\n",
    "ax.set_ylabel(\"Proportion\", fontsize=14)\n",
    "ax.set_title(\"Party vote proportions\", fontsize=14)\n",
    "plt.show()\n",
    "\n",
    "p_value = permutation_test(democrats.prop, republicans.prop,\n",
    "                           method='approximate',\n",
    "                           num_rounds=10000,\n",
    "                           seed=0)\n",
    "\n",
    "p_value\n"
   ]
  },
  {
   "cell_type": "markdown",
   "metadata": {},
   "source": [
    "### Interpreting the Results\n",
    "Now, we have a p-value. The p-value is often misunderstood or improperly interpreted, so it's very important to know what it actually means. **A p-value is the probability of observing our data, given that the null hypothesis is correct.** So, we assume that our data are random, but the true values are fixed. A common pitfall when interpreting p-values is to think of the p-value as the probability of the null hypothesis being correct, but this interpretation is wrong. Looking at the results above with this in mind, we can see that if Democrats and Republicans truly had the same average ranking, there would be very low probability of getting the data we got (though still possible), so we can pretty reasonably reject the null hypothesis and say that the two parties do not have equal proportions. Because the test statistic is negative, we can see that Adams has a lower (better) ranking. \n",
    "\n",
    "In general, a common rule of thumb is to reject the null hypothesis when the p-value is less than 0.05. When we fail to reject the null hypothesis, we should never say that we \"accept\" or \"prove\" the null. All we have done is failed to reject it; we can never prove the null hypothesis true."
   ]
  },
  {
   "cell_type": "markdown",
   "metadata": {},
   "source": [
    "### One-sample tests\n",
    "\n",
    "We can also do one-sample tests, where we compare our statistic to a set value. A one sample t-test is a test of how \"far\" a sample statistic is from a hypothesized \"true\" value, still assuming normality of observations. For example, if Dean Khurana tells you that he believes 75% of students support the social group sanctions, but your HODP survey suggests that only 65% of students support the sanctions, you can test whether that difference is sufficiently large to dispute Khurana's claim.\n",
    "\n",
    "To run such a test, you can use the stats.ttest_1samp() command (documentation here: https://docs.scipy.org/doc/scipy/reference/generated/scipy.stats.f_oneway.html)\n",
    "\n",
    "**Let's say Fox News claims that the true proportion of American that voted for Republicans in 2018 was 49%. Perform a one sample t-test to validate this claim. Comment on your assumptions for a one sample t-test.**"
   ]
  },
  {
   "cell_type": "code",
   "execution_count": 90,
   "metadata": {},
   "outputs": [
    {
     "data": {
      "image/png": "[encoded data removed]",
      "text/plain": [
       "<Figure size 432x288 with 1 Axes>"
      ]
     },
     "metadata": {},
     "output_type": "display_data"
    },
    {
     "data": {
      "text/plain": [
       "Ttest_1sampResult(statistic=-1.879688695739978, pvalue=0.060880814638531705)"
      ]
     },
     "execution_count": 90,
     "metadata": {},
     "output_type": "execute_result"
    }
   ],
   "source": [
    "fig, ax = plt.subplots(1, 1, sharey=True, tight_layout=True)\n",
    "ax.hist(republicans.prop, bins=n_bins)\n",
    "ax.set_title(\"Republican Prop\", fontsize=14)\n",
    "plt.show()\n",
    "\n",
    "stats.ttest_1samp(republicans.prop, 0.49)"
   ]
  },
  {
   "cell_type": "markdown",
   "metadata": {},
   "source": [
    "Equally important in data journalism: add an interpretation of your data analysis here! \n",
    "**TODO **"
   ]
  },
  {
   "cell_type": "markdown",
   "metadata": {},
   "source": [
    "With a pvalue of 0.06, we do not have evidence that the Republican proportion was different from 49%. "
   ]
  },
  {
   "cell_type": "markdown",
   "metadata": {},
   "source": [
    "## Confidence Intervals\n",
    "You're probably quite familiar with point estimates in Statistics, where we say the observed proportion of democratic votes is, say, 0.53. A confidence interval is, as the name suggests, an interval that we think the true value is likely to fall in. These intervals have a certain level of *confidence*, or the percentage of intervals calculated using this method that contain the true value. There is a trade off between confidence and width - higher confidence is great, but it will also widen the interval, which can make it less useful. For example, you can construct a 100% confidence interval for anything, but it goes from negative infinity to positive infinity, and tells us nothing about the parameter of interest.\n",
    "\n",
    "In practice, 95% confidence intervals are quite popular, which means that, on average, 19 out of every 20 contain the true value of the parameter of interest. A common pitfall with confidence intervals is to say there is a 95% chance that the true value falls inside the interval, but this interpretation is incorrect, so please stay away from this phrase in your articles.\n",
    "\n",
    "Now, let's construct a 95% confidence interval for the proportion of democratic votes. We have to do a bit more work to generate a confidence interval in Python. We need to provide SciPy's interval function with a confidence level, a center (the sample mean), and a scale (the standard error, which is the sample standard deviation divided by the square root of one less than the length of the dataset)."
   ]
  },
  {
   "cell_type": "code",
   "execution_count": 91,
   "metadata": {},
   "outputs": [
    {
     "data": {
      "text/plain": [
       "(0.5121324337735289, 0.5491756352238242)"
      ]
     },
     "execution_count": 91,
     "metadata": {},
     "output_type": "execute_result"
    }
   ],
   "source": [
    "mean, sigma = np.mean(democrats.prop), np.std(democrats.prop)\n",
    "\n",
    "conf_int = stats.norm.interval(0.95, \n",
    "                               loc = mean, \n",
    "                               scale = sigma/np.sqrt(len(democrats.prop) - 1))\n",
    "conf_int"
   ]
  },
  {
   "cell_type": "markdown",
   "metadata": {},
   "source": [
    "Now, try generating an interval for the republican data using a different confidence level, and interpret your results."
   ]
  },
  {
   "cell_type": "code",
   "execution_count": 7,
   "metadata": {},
   "outputs": [],
   "source": [
    "#generate the interval here"
   ]
  },
  {
   "cell_type": "markdown",
   "metadata": {},
   "source": [
    "Interpret your results here!"
   ]
  },
  {
   "cell_type": "markdown",
   "metadata": {},
   "source": [
    "## Causation vs. Correlation\n",
    "You've all probably heard this before, but it's important to hear it again: correlation does not imply causation. It's pretty rare that we'll be able to show causation in a HODP article, so it's important to frame most of our work as a correlation or trend we noticed, rather than as a direct cause. Often, though, it will intuitively make sense that there \"should\" or at least \"could\" be a causal connection. In those cases, make sure to frame your writing as a \"possible explanation\" than as a statement of what is going on. For example, the percentage of female concentrators by department is likely strongly correlated with the percentage of female faculty members, and there is probably some causal effect here. However, it's best to cite other research on whether such a trend has a causal effect, or to cite relevant quantitative work. For example, in an article about gender balance in different departments, we could talk about existing research on the effect of faculty gender on students and potentially cite relevant Crimson articles, but we should not conclude that (for example) low female faculty presence in Mathematics *causes* low female student presence in Mathematics.\n",
    "\n",
    "For people who are particularly interested in causation, talk to Seth or look at Stat 111 (Statistical Inference), Stat 186 (Causal Inference), and Ec 1123 (Econometrics).\n",
    "\n",
    "Let's look at some examples of how we might be able to find correlations that are likely not causal. This will also show you how to find a correlation coefficient. If all you want is the correlation, it's very easy."
   ]
  },
  {
   "cell_type": "code",
   "execution_count": 92,
   "metadata": {},
   "outputs": [
    {
     "data": {
      "text/plain": [
       "(0.7635806435842531, 0.0038495884100404063)"
      ]
     },
     "execution_count": 92,
     "metadata": {},
     "output_type": "execute_result"
    }
   ],
   "source": [
    "from scipy.stats.stats import pearsonr\n",
    "\n",
    "rankings = pd.read_csv(\"house_rankings_2018.csv\")\n",
    "houses = rankings.House\n",
    "rankings.set_index(\"House\", inplace = True)\n",
    "rankings\n",
    "#monthly high temps in Boston\n",
    "bostontemps = [37, 39, 46, 57, 67, 77, 82, 81, 73, 62, 52, 42]\n",
    "levCounts = list(rankings.values[5,])\n",
    "pearsonr(levCounts, bostontemps)"
   ]
  },
  {
   "cell_type": "markdown",
   "metadata": {},
   "source": [
    "## Basic Regression\n",
    "Regression is a very useful tool for prediction. Linear regressions allow us to easily model a linear relationship between a response/dependent/Y variable and 1 or more predictor/independent/X variables. This is a very widely used technique, so if you plan to use regression in your project, please come talk to us for a more in depth treatment of the subject, but here are the basics! Regressions in Python are fairly easy to do: we just need a Y list, and at least one X list of equal length! Below, we've built a regression based on the same Leverett and temperature data from above. Note that you may sometimes need to reshape data a bit."
   ]
  },
  {
   "cell_type": "code",
   "execution_count": 93,
   "metadata": {},
   "outputs": [
    {
     "name": "stdout",
     "output_type": "stream",
     "text": [
      "[37, 39, 46, 57, 67, 77, 82, 81, 73, 62, 52, 42]\n",
      "[[37]\n",
      " [39]\n",
      " [46]\n",
      " [57]\n",
      " [67]\n",
      " [77]\n",
      " [82]\n",
      " [81]\n",
      " [73]\n",
      " [62]\n",
      " [52]\n",
      " [42]]\n"
     ]
    },
    {
     "data": {
      "image/png": "[encoded data removed]",
      "text/plain": [
       "<Figure size 432x288 with 1 Axes>"
      ]
     },
     "metadata": {},
     "output_type": "display_data"
    }
   ],
   "source": [
    "from sklearn import linear_model\n",
    "import statsmodels.api as sm\n",
    "lm = linear_model.LinearRegression()\n",
    "print(bostontemps)\n",
    "bostontemps = np.array(bostontemps).reshape(-1, 1)\n",
    "print(bostontemps)\n",
    "#X, Y is the order\n",
    "reg = lm.fit(bostontemps, levCounts)\n",
    "beta0, beta1 = reg.intercept_, reg.coef_\n",
    "y_predict = np.multiply(bostontemps,beta1) + beta0\n",
    "\n",
    "fig, ax = plt.subplots(1, 1, sharey=True, tight_layout=True)\n",
    "ax.scatter(bostontemps, levCounts)\n",
    "plt.plot(bostontemps, y_predict, '-o',color='r')\n",
    "ax.set_title(\"Predicting Lev Counts from Boston Temps\", fontsize=14)\n",
    "plt.show()"
   ]
  },
  {
   "cell_type": "markdown",
   "metadata": {},
   "source": [
    "## Multiple Regression\n",
    "\n",
    "We can also run a regression model with more than one predictor variables. All you have to do is add the predictors to your design matrix X and use the lm.fit() command.\n",
    "\n",
    "On your own, try fitting a model to predict number of first-choice votes each house received, with at least two predictor variables. I've given you two possible variables below, though you're welcome to find more, or different ones. Again, note that you may need to reshape data.\n",
    "\n",
    "*Hint: You still need to find the dependent variable, and structure it like the `levCounts` variable above.*"
   ]
  },
  {
   "cell_type": "code",
   "execution_count": 96,
   "metadata": {},
   "outputs": [
    {
     "data": {
      "text/plain": [
       "[array([31.89518947]), array([[-1.40647675, 56.9746036 ]])]"
      ]
     },
     "execution_count": 96,
     "metadata": {},
     "output_type": "execute_result"
    }
   ],
   "source": [
    "#walking time from Widener Library (in minutes), from Google Maps\n",
    "dist = [2, 15, 7, 8, 3, 5, 7, 16, 7, 2, 17, 6]\n",
    "#was the house renovated in last 10 years? 1 if true\n",
    "renovated = [0, 0, 0, 0, 1, 1, 1, 0, 0, 1, 0, 1]\n",
    "\n",
    "X = np.matrix([dist, renovated]).transpose()\n",
    "Y = [rankings.values[i,0] for i in range(0, 12)]\n",
    "Y = np.array([Y]).reshape(-1, 1)\n",
    "\n",
    "reg = lm.fit(X, Y)\n",
    "[reg.intercept_, reg.coef_]\n"
   ]
  },
  {
   "cell_type": "markdown",
   "metadata": {},
   "source": [
    "### Prediction\n",
    "Finally, one of the most useful things we can do with a predictive model is make predictions! Assuming you called your model `reg`, use the command below to predict the number of first choice votes for Adams House after the renovations begin."
   ]
  },
  {
   "cell_type": "code",
   "execution_count": 82,
   "metadata": {},
   "outputs": [
    {
     "data": {
      "text/plain": [
       "array([[86.05683956]])"
      ]
     },
     "execution_count": 82,
     "metadata": {},
     "output_type": "execute_result"
    }
   ],
   "source": [
    "reg.predict(np.array([[2, 1]]))"
   ]
  },
  {
   "cell_type": "code",
   "execution_count": null,
   "metadata": {},
   "outputs": [],
   "source": []
  }
 ],
 "metadata": {
  "kernelspec": {
   "display_name": "Python 3",
   "language": "python",
   "name": "python3"
  },
  "language_info": {
   "codemirror_mode": {
    "name": "ipython",
    "version": 3
   },
   "file_extension": ".py",
   "mimetype": "text/x-python",
   "name": "python",
   "nbconvert_exporter": "python",
   "pygments_lexer": "ipython3",
   "version": "3.6.5"
  }
 },
 "nbformat": 4,
 "nbformat_minor": 2
}
